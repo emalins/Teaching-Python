{
  "nbformat": 4,
  "nbformat_minor": 0,
  "metadata": {
    "colab": {
      "name": "Animated Invert P6 (colour binary) Image.ipynb",
      "provenance": [],
      "collapsed_sections": [],
      "authorship_tag": "ABX9TyNRJFg84nkHRLJWJrvOgUnO",
      "include_colab_link": true
    },
    "kernelspec": {
      "name": "python3",
      "display_name": "Python 3"
    }
  },
  "cells": [
    {
      "cell_type": "markdown",
      "metadata": {
        "id": "view-in-github",
        "colab_type": "text"
      },
      "source": [
        "<a href=\"https://colab.research.google.com/github/emalins/Teaching-Python/blob/master/Animated_Invert_P6_(colour_binary)_Image.ipynb\" target=\"_parent\"><img src=\"https://colab.research.google.com/assets/colab-badge.svg\" alt=\"Open In Colab\"/></a>"
      ]
    },
    {
      "cell_type": "code",
      "metadata": {
        "id": "RJkMQdQQH_7V",
        "colab_type": "code",
        "colab": {}
      },
      "source": [
        "import matplotlib.pyplot as plt\n",
        "import imageio\n",
        "import cv2\n",
        "import time\n",
        "from IPython.display import clear_output\n"
      ],
      "execution_count": null,
      "outputs": []
    },
    {
      "cell_type": "code",
      "metadata": {
        "id": "CSQB0R26IJAa",
        "colab_type": "code",
        "colab": {}
      },
      "source": [
        "# read the input image \n",
        "img = imageio.imread('http://octopus.industries/~ratz/teaching/ppm_bin_example_p6.ppm')"
      ],
      "execution_count": null,
      "outputs": []
    },
    {
      "cell_type": "code",
      "metadata": {
        "id": "O70LbOeJIUVf",
        "colab_type": "code",
        "colab": {
          "base_uri": "https://localhost:8080/",
          "height": 269
        },
        "outputId": "d6a6f4b3-772f-4a68-8b35-0757c726e184"
      },
      "source": [
        "# Display original image\n",
        "plt.imshow(img)\n",
        "plt.show()\n",
        "\n",
        "#Print the raw image data to help get an idea of its structure\n",
        "#print(img)"
      ],
      "execution_count": null,
      "outputs": [
        {
          "output_type": "display_data",
          "data": {
            "image/png": "[encoded data removed]",
            "text/plain": [
              "<Figure size 432x288 with 1 Axes>"
            ]
          },
          "metadata": {
            "tags": [],
            "needs_background": "light"
          }
        }
      ]
    },
    {
      "cell_type": "code",
      "metadata": {
        "id": "pTfMWlEQNIX3",
        "colab_type": "code",
        "colab": {
          "base_uri": "https://localhost:8080/",
          "height": 269
        },
        "outputId": "940bd047-dd02-4c45-d235-0974b30a90aa"
      },
      "source": [
        "#Find the X and Y dimensions of the image\n",
        "height = len(img)\n",
        "width = len(img[0])\n",
        "\n",
        "for y in range(0, height):\n",
        "  for x in range(0, width):\n",
        "    \n",
        "    current_pixel = img[y][x]\n",
        "    \n",
        "    #invert the colours of a single pixel\n",
        "    img[y][x][0] = 255 - current_pixel[0]\n",
        "    img[y][x][1] = 255 - current_pixel[1]\n",
        "    img[y][x][2] = 255 - current_pixel[2]\n",
        "\n",
        "\n",
        "    time.sleep(0.5)\n",
        "    #IPython magic to clear the screen after each pixel\n",
        "    clear_output(wait=True)\n",
        "    plt.imshow(img)\n",
        "    plt.show()\n"
      ],
      "execution_count": null,
      "outputs": [
        {
          "output_type": "display_data",
          "data": {
            "image/png": "[encoded data removed]",
            "text/plain": [
              "<Figure size 432x288 with 1 Axes>"
            ]
          },
          "metadata": {
            "tags": [],
            "needs_background": "light"
          }
        }
      ]
    }
  ]
}