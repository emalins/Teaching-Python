{
  "nbformat": 4,
  "nbformat_minor": 0,
  "metadata": {
    "colab": {
      "name": "Reading from a prompt.ipynb",
      "provenance": [],
      "collapsed_sections": [],
      "authorship_tag": "ABX9TyNqF2Aj8RI2mgct6vup/HT8",
      "include_colab_link": true
    },
    "kernelspec": {
      "name": "python3",
      "display_name": "Python 3"
    }
  },
  "cells": [
    {
      "cell_type": "markdown",
      "metadata": {
        "id": "view-in-github",
        "colab_type": "text"
      },
      "source": [
        "<a href=\"https://colab.research.google.com/github/emalins/Teaching-Python/blob/master/Lesson%2005/Reading_from_a_prompt.ipynb\" target=\"_parent\"><img src=\"https://colab.research.google.com/assets/colab-badge.svg\" alt=\"Open In Colab\"/></a>"
      ]
    },
    {
      "cell_type": "markdown",
      "metadata": {
        "id": "GG7SaVCiSp7k"
      },
      "source": [
        "#Exercise E01"
      ]
    },
    {
      "cell_type": "code",
      "metadata": {
        "id": "N8Pe3vjOLBBD",
        "outputId": "4b3daea7-2b3a-46f5-ae0b-fa667049b3a1",
        "colab": {
          "base_uri": "https://localhost:8080/",
          "height": 68
        }
      },
      "source": [
        "# A program to prompt the user for some input then display it \n",
        "# Last modified 2019-10-16 EJM\n",
        "\n",
        "# Prompt for input, save whatever's input into the variable inputString\n",
        "# Note, we could call input with nothing in the bracket, but if we did,\n",
        "# we wouldn't know what it's prompting us for.  The time?  A number?  Biscuits?\n",
        "\n",
        "inputString = input(\"What is your name? \")\n",
        "\n",
        "print(\"Hello \", inputString)\n",
        "print(\"Goodbye \", inputString)\n"
      ],
      "execution_count": 24,
      "outputs": [
        {
          "output_type": "stream",
          "text": [
            "What is your name? WEaselton the destroyer\n",
            "Hello  WEaselton the destroyer\n",
            "Goodbye  WEaselton the destroyer\n"
          ],
          "name": "stdout"
        }
      ]
    },
    {
      "cell_type": "markdown",
      "metadata": {
        "id": "s0dBcE3BStOj"
      },
      "source": [
        "---"
      ]
    },
    {
      "cell_type": "markdown",
      "metadata": {
        "id": "fyDRVta-Se3d"
      },
      "source": [
        "#Exercise E02\n",
        "Experiment with the code below and determine what happens if you do not convert the input strings"
      ]
    },
    {
      "cell_type": "code",
      "metadata": {
        "id": "u-XvUqKzNztv",
        "outputId": "3a512e21-d1e0-4f98-8954-638aaa64edc7",
        "colab": {
          "base_uri": "https://localhost:8080/",
          "height": 265
        }
      },
      "source": [
        "\n",
        "# What if the input value was a number? \n",
        "inputString = input(\"Give me a number \")\n",
        "\n",
        "# Print out what we've just received\n",
        "print(\"You gave me\", inputString)\n",
        "\n",
        "# Add one to the number and print it out\n",
        "###########\n",
        "#\n",
        "# NOTE: The two lines below DO NOT WORK\n",
        "# Trap for new players!  \n",
        "# The input() function will always take input in string form!\n",
        "# Correct code below.\n",
        "# Compare the next two lines with the working code.\n",
        "#\n",
        "###########\n",
        "\n",
        "inputString += 1\n",
        "print(\"New value =\",inputString)\n",
        "\n",
        "\n",
        "\n",
        "###########\n",
        "#\n",
        "# Uncomment the code below and try to see why the above breaks\n",
        "#\n",
        "###########\n",
        "\n",
        "# Add one to the integer version of the input string\n",
        "#inputInt = int(inputString)\n",
        "#inputInt += 1\n",
        "#print(\"Converted and incremented value = \", inputInt)"
      ],
      "execution_count": 25,
      "outputs": [
        {
          "output_type": "stream",
          "text": [
            "Give me a number 123\n",
            "You gave me 123\n"
          ],
          "name": "stdout"
        },
        {
          "output_type": "error",
          "ename": "TypeError",
          "evalue": "ignored",
          "traceback": [
            "\u001b[0;31m---------------------------------------------------------------------------\u001b[0m",
            "\u001b[0;31mTypeError\u001b[0m                                 Traceback (most recent call last)",
            "\u001b[0;32m<ipython-input-25-2de08436ccde>\u001b[0m in \u001b[0;36m<module>\u001b[0;34m()\u001b[0m\n\u001b[1;32m     17\u001b[0m \u001b[0;31m###########\u001b[0m\u001b[0;34m\u001b[0m\u001b[0;34m\u001b[0m\u001b[0;34m\u001b[0m\u001b[0m\n\u001b[1;32m     18\u001b[0m \u001b[0;34m\u001b[0m\u001b[0m\n\u001b[0;32m---> 19\u001b[0;31m \u001b[0minputString\u001b[0m \u001b[0;34m+=\u001b[0m \u001b[0;36m1\u001b[0m\u001b[0;34m\u001b[0m\u001b[0;34m\u001b[0m\u001b[0m\n\u001b[0m\u001b[1;32m     20\u001b[0m \u001b[0mprint\u001b[0m\u001b[0;34m(\u001b[0m\u001b[0;34m\"New value =\"\u001b[0m\u001b[0;34m,\u001b[0m\u001b[0minputString\u001b[0m\u001b[0;34m)\u001b[0m\u001b[0;34m\u001b[0m\u001b[0;34m\u001b[0m\u001b[0m\n\u001b[1;32m     21\u001b[0m \u001b[0;34m\u001b[0m\u001b[0m\n",
            "\u001b[0;31mTypeError\u001b[0m: must be str, not int"
          ]
        }
      ]
    },
    {
      "cell_type": "code",
      "metadata": {
        "id": "NLkFa5AXPFDL"
      },
      "source": [
        ""
      ],
      "execution_count": null,
      "outputs": []
    }
  ]
}