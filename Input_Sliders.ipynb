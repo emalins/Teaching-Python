{
  "nbformat": 4,
  "nbformat_minor": 0,
  "metadata": {
    "colab": {
      "name": "Input Sliders.ipynb",
      "provenance": [],
      "collapsed_sections": [],
      "authorship_tag": "ABX9TyOlmTNbVR5msp4Z32nHVaEY",
      "include_colab_link": true
    },
    "kernelspec": {
      "name": "python3",
      "display_name": "Python 3"
    }
  },
  "cells": [
    {
      "cell_type": "markdown",
      "metadata": {
        "id": "view-in-github",
        "colab_type": "text"
      },
      "source": [
        "<a href=\"https://colab.research.google.com/github/emalins/Teaching-Python/blob/master/Input_Sliders.ipynb\" target=\"_parent\"><img src=\"https://colab.research.google.com/assets/colab-badge.svg\" alt=\"Open In Colab\"/></a>"
      ]
    },
    {
      "cell_type": "code",
      "metadata": {
        "id": "f-EbFNuue2bv",
        "colab_type": "code",
        "colab": {
          "base_uri": "https://localhost:8080/",
          "height": 153
        },
        "outputId": "0044f570-e07c-4187-a0ae-76c670b8fae2"
      },
      "source": [
        "width = 29 #@param {type:\"slider\", min:0, max:100, step:1}\n",
        "height = 8 #@param {type:\"slider\", min:0, max:100, step:1}\n",
        "\n",
        "for y in range(0, height):\n",
        "  for x in range(0, width):\n",
        "    print(\"#\", end=\"\")\n",
        "  print()\n"
      ],
      "execution_count": 10,
      "outputs": [
        {
          "output_type": "stream",
          "text": [
            "#############################\n",
            "#############################\n",
            "#############################\n",
            "#############################\n",
            "#############################\n",
            "#############################\n",
            "#############################\n",
            "#############################\n"
          ],
          "name": "stdout"
        }
      ]
    }
  ]
}