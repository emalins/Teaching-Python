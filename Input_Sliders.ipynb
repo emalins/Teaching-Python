{
  "nbformat": 4,
  "nbformat_minor": 0,
  "metadata": {
    "colab": {
      "name": "Input Sliders.ipynb",
      "provenance": [],
      "collapsed_sections": [],
      "authorship_tag": "ABX9TyPrrzAngxlHfXY7TA1CYHnS",
      "include_colab_link": true
    },
    "kernelspec": {
      "name": "python3",
      "display_name": "Python 3"
    }
  },
  "cells": [
    {
      "cell_type": "markdown",
      "metadata": {
        "id": "view-in-github",
        "colab_type": "text"
      },
      "source": [
        "<a href=\"https://colab.research.google.com/github/emalins/Teaching-Python/blob/master/Input_Sliders.ipynb\" target=\"_parent\"><img src=\"https://colab.research.google.com/assets/colab-badge.svg\" alt=\"Open In Colab\"/></a>"
      ]
    },
    {
      "cell_type": "markdown",
      "metadata": {
        "id": "Qjmuj--HQGPj",
        "colab_type": "text"
      },
      "source": [
        "One neat thing about colab is that you can include some simple GUI (Graphical User Interface) elements called \"*form fields*\" and use those to change your variables.\n",
        "  \n",
        "The section of code below revisits the loops task where a rectangle of arbitrary width and height was specified by the user.  \n",
        "\n",
        "On the right hand side, move the sliders to values you'd like, then run the code segment.\n",
        "\n",
        "More information on the various types of form fields available can be found [here](https://colab.research.google.com/notebooks/forms.ipynb#scrollTo=KxoHySheBE0G)\n",
        "\n"
      ]
    },
    {
      "cell_type": "code",
      "metadata": {
        "id": "f-EbFNuue2bv",
        "colab_type": "code",
        "colab": {
          "base_uri": "https://localhost:8080/",
          "height": 153
        },
        "outputId": "0044f570-e07c-4187-a0ae-76c670b8fae2"
      },
      "source": [
        "width = 29 #@param {type:\"slider\", min:0, max:100, step:1}\n",
        "height = 8 #@param {type:\"slider\", min:0, max:100, step:1}\n",
        "\n",
        "for y in range(0, height):\n",
        "  for x in range(0, width):\n",
        "    print(\"#\", end=\"\")\n",
        "  print()\n"
      ],
      "execution_count": 10,
      "outputs": [
        {
          "output_type": "stream",
          "text": [
            "#############################\n",
            "#############################\n",
            "#############################\n",
            "#############################\n",
            "#############################\n",
            "#############################\n",
            "#############################\n",
            "#############################\n"
          ],
          "name": "stdout"
        }
      ]
    },
    {
      "cell_type": "markdown",
      "metadata": {
        "id": "C3ddxza1QIOM",
        "colab_type": "text"
      },
      "source": [
        "The following example uses form fields to set RGB to create a block of a single colour.\n",
        "\n",
        "More information on the library which provides the images processing can be found [HERE](https://code-maven.com/create-images-with-python-pil-pillow)"
      ]
    },
    {
      "cell_type": "code",
      "metadata": {
        "id": "9imwmQMnjvhb",
        "colab_type": "code",
        "colab": {
          "base_uri": "https://localhost:8080/",
          "height": 217
        },
        "outputId": "4e0a3e8a-d6af-44d4-99bd-61389086086b"
      },
      "source": [
        "r = 12 #@param {type:\"slider\", min:0, max:255, step:1}\n",
        "g = 157 #@param {type:\"slider\", min:0, max:255, step:1}\n",
        "b = 131 #@param {type:\"slider\", min:0, max:255, step:1}\n",
        "\n",
        "from PIL import Image\n",
        "import matplotlib.pyplot as plt\n",
        "\n",
        "pixel = [123, 0 , 255]\n",
        "\n",
        "pixel = [r, g , b]\n",
        "\n",
        "# Bit of an ugly hack here, Image.new takes a tuple rather than a list, so\n",
        "# in reality it looks like this:\n",
        "# img = Image.new('RGB', (60, 30), color = (73, 109, 137)) \n",
        "# 60, 30 are the x and y dimensions of the new image\n",
        "\n",
        "img = Image.new('RGB', (60, 30), tuple(pixel))\n",
        "plt.imshow(img)\n",
        "plt.show()\n"
      ],
      "execution_count": 21,
      "outputs": [
        {
          "output_type": "display_data",
          "data": {
            "image/png": "[encoded data removed]",
            "text/plain": [
              "<Figure size 432x288 with 1 Axes>"
            ]
          },
          "metadata": {
            "tags": [],
            "needs_background": "light"
          }
        }
      ]
    }
  ]
}