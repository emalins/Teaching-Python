{
  "nbformat": 4,
  "nbformat_minor": 0,
  "metadata": {
    "colab": {
      "name": "Workbook 01 - Hello World.ipynb",
      "provenance": [],
      "include_colab_link": true
    },
    "kernelspec": {
      "name": "python3",
      "display_name": "Python 3"
    }
  },
  "cells": [
    {
      "cell_type": "markdown",
      "metadata": {
        "id": "view-in-github",
        "colab_type": "text"
      },
      "source": [
        "<a href=\"https://colab.research.google.com/github/emalins/Teaching-Python/blob/master/Lesson%2001/Workbook_01_Hello_World.ipynb\" target=\"_parent\"><img src=\"https://colab.research.google.com/assets/colab-badge.svg\" alt=\"Open In Colab\"/></a>"
      ]
    },
    {
      "cell_type": "markdown",
      "metadata": {
        "id": "1jf4fp5L6QxO",
        "colab_type": "text"
      },
      "source": [
        "$$An\\ Introduction\\ to\\ Programming$$\n",
        "\n",
        "$$Eoin\\ Malins$$  \n",
        "$$Doctoral\\ Training\\ Centre$$  \n",
        "$$University\\ of\\ Oxford$$\n"
      ]
    },
    {
      "cell_type": "markdown",
      "metadata": {
        "id": "PeAveSGeqwcK",
        "colab_type": "text"
      },
      "source": [
        "#Worksheet 1 - \"*Hello World*\"\n",
        "No matter how experienced, the very first program just about any programmer writes when learning a new language, is \"Hello World\".  \n",
        "  \n",
        "\n",
        "The code to run this program is shown below.\n",
        "\n",
        "---\n"
      ]
    },
    {
      "cell_type": "code",
      "metadata": {
        "id": "bm5Iy0aDqnG8",
        "colab_type": "code",
        "colab": {
          "base_uri": "https://localhost:8080/",
          "height": 34
        },
        "outputId": "4518f6b0-0b35-4529-d5ba-703a73024e77"
      },
      "source": [
        "# This is a comment, it's for humans to read and computers to ignore.\n",
        "# Comments in python start with the hash symbol and are intended to explain\n",
        "# what the next bit of code does.  In this case, it prints the phrase \"hello world\"\n",
        "\n",
        "print(\"hello world\")"
      ],
      "execution_count": null,
      "outputs": [
        {
          "output_type": "stream",
          "text": [
            "hello world\n"
          ],
          "name": "stdout"
        }
      ]
    },
    {
      "cell_type": "markdown",
      "metadata": {
        "id": "oXda8WPBrB8v",
        "colab_type": "text"
      },
      "source": [
        "---\n",
        "\n",
        "On the left hand side of the text you will see some empty square brackets [ ]\n",
        "\n",
        "![alt text](https://drive.google.com/uc?id=1KizBw0VJpag0De7FUnZDRB8qfmcZUzUP)\n",
        "\n"
      ]
    },
    {
      "cell_type": "markdown",
      "metadata": {
        "id": "gYWyhiNiGNba",
        "colab_type": "text"
      },
      "source": [
        "If you put your mouse over these square brackets it will turn into a \"play\" symbol.\n",
        "\n",
        "![alt text](https://drive.google.com/uc?id=1RTPqSVdWlsUXe2ee9wDzpsqUg0Ug9Rio)\n",
        "\n",
        "By clicking on the play symbol the section of code will be executed and the output will appear underneath the section of code.\n",
        "\n",
        "**Click the play button in the code section above.** \n",
        "\n"
      ]
    },
    {
      "cell_type": "markdown",
      "metadata": {
        "id": "djTF-wkSIERM",
        "colab_type": "text"
      },
      "source": [
        "Looking at the above cell, see if you can find:\n",
        "\n",
        "\n",
        "* Comments\n",
        "* A Print statement"
      ]
    },
    {
      "cell_type": "markdown",
      "metadata": {
        "id": "hsVcdrYb_9Gl",
        "colab_type": "text"
      },
      "source": [
        "At the top of the screen you will see a button marked + Code.   \n",
        "Click that to add a new code section\n",
        "\n",
        "![alt text](https://drive.google.com/uc?id=1N_Va0xZAC_kMCxwrOh4P2i8T9JTig59h)\n",
        "\n",
        "\n"
      ]
    },
    {
      "cell_type": "code",
      "metadata": {
        "id": "ETC4skSu_JbU",
        "colab_type": "code",
        "colab": {
          "base_uri": "https://localhost:8080/",
          "height": 34
        },
        "outputId": "03f33a4c-698c-48f2-8037-ef2bddb7baa6"
      },
      "source": [
        "print(\"Hello bob\")"
      ],
      "execution_count": null,
      "outputs": [
        {
          "output_type": "stream",
          "text": [
            "Hello bob\n"
          ],
          "name": "stdout"
        }
      ]
    }
  ]
}