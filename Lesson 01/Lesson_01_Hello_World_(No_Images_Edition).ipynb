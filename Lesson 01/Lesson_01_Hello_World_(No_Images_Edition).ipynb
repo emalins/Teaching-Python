{
  "nbformat": 4,
  "nbformat_minor": 0,
  "metadata": {
    "colab": {
      "name": "Lesson 01 - Hello World (No Images Edition).ipynb",
      "provenance": [],
      "include_colab_link": true
    },
    "kernelspec": {
      "name": "python3",
      "display_name": "Python 3"
    }
  },
  "cells": [
    {
      "cell_type": "markdown",
      "metadata": {
        "id": "view-in-github",
        "colab_type": "text"
      },
      "source": [
        "<a href=\"https://colab.research.google.com/github/emalins/Teaching-Python/blob/master/Lesson_01_Hello_World_(No_Images_Edition).ipynb\" target=\"_parent\"><img src=\"https://colab.research.google.com/assets/colab-badge.svg\" alt=\"Open In Colab\"/></a>"
      ]
    },
    {
      "cell_type": "markdown",
      "metadata": {
        "id": "1jf4fp5L6QxO"
      },
      "source": [
        "$$An\\ Introduction\\ to\\ Programming$$\n",
        "\n",
        "$$Eoin\\ Malins$$  \n",
        "$$Doctoral\\ Training\\ Centre$$  \n",
        "$$University\\ of\\ Oxford$$\n"
      ]
    },
    {
      "cell_type": "markdown",
      "metadata": {
        "id": "PeAveSGeqwcK"
      },
      "source": [
        "#Worksheet 1 - \"*Hello World*\"\n",
        "No matter how experienced, the very first program just about any programmer writes when learning a new language, is \"Hello World\".  \n",
        "  \n",
        "\n",
        "The code to run this program is shown below.\n",
        "\n",
        "---\n"
      ]
    },
    {
      "cell_type": "code",
      "metadata": {
        "id": "bm5Iy0aDqnG8",
        "outputId": "4518f6b0-0b35-4529-d5ba-703a73024e77",
        "colab": {
          "base_uri": "https://localhost:8080/",
          "height": 34
        }
      },
      "source": [
        "# This is a comment, it's for humans to read and computers to ignore.\n",
        "# Comments in python start with the hash symbol and are intended to explain\n",
        "# what the next bit of code does.  In this case, it prints the phrase \"hello world\"\n",
        "\n",
        "print(\"hello world\")"
      ],
      "execution_count": null,
      "outputs": [
        {
          "output_type": "stream",
          "text": [
            "hello world\n"
          ],
          "name": "stdout"
        }
      ]
    },
    {
      "cell_type": "markdown",
      "metadata": {
        "id": "djTF-wkSIERM"
      },
      "source": [
        "Looking at the above cell, see if you can find:\n",
        "\n",
        "\n",
        "* Comments\n",
        "* A print statement"
      ]
    },
    {
      "cell_type": "markdown",
      "metadata": {
        "id": "WFcXXZYTA8kq"
      },
      "source": [
        "Add a new code section and modify the code above, so that instead of printing \"hello world\", it will instead print Hello (your name)."
      ]
    },
    {
      "cell_type": "markdown",
      "metadata": {
        "id": "yFhcqsuFDVuw"
      },
      "source": [
        "Experiment with following strings and determine what they do to the print statement:\n",
        "\n",
        "*   \\\\\\\\  (backslash backslash)\n",
        "*   \\b\n",
        "*   \\t\n",
        "*   \\r\n",
        "*   \\n\n",
        "*   \\\\\\\" (backslash speechmark)\n",
        "\n",
        "Hint:  It may be easier to put these statements in the middle of a statement.  For example: print(“Hello\\bWorld”)\n",
        "\n"
      ]
    },
    {
      "cell_type": "markdown",
      "metadata": {
        "id": "unmN_O4bEY9I"
      },
      "source": [
        "**End of Lesson 01**\n"
      ]
    }
  ]
}
