{
  "nbformat": 4,
  "nbformat_minor": 0,
  "metadata": {
    "language_info": {
      "codemirror_mode": {
        "name": "ipython",
        "version": 3
      },
      "file_extension": ".py",
      "mimetype": "text/x-python",
      "name": "python",
      "nbconvert_exporter": "python",
      "pygments_lexer": "ipython3",
      "version": "3.8.3-final"
    },
    "orig_nbformat": 2,
    "kernelspec": {
      "name": "python3",
      "display_name": "Python 3"
    },
    "colab": {
      "name": "Loops.ipynb",
      "provenance": [],
      "collapsed_sections": [],
      "include_colab_link": true
    }
  },
  "cells": [
    {
      "cell_type": "markdown",
      "metadata": {
        "id": "view-in-github",
        "colab_type": "text"
      },
      "source": [
        "<a href=\"https://colab.research.google.com/github/emalins/Teaching-Python/blob/master/Loops.ipynb\" target=\"_parent\"><img src=\"https://colab.research.google.com/assets/colab-badge.svg\" alt=\"Open In Colab\"/></a>"
      ]
    },
    {
      "cell_type": "markdown",
      "metadata": {
        "id": "vVsrdFNkBIyB"
      },
      "source": [
        "# Loops\n",
        "\n",
        "A loop is a block of code that is executed repeatedly until a condition is satisfied. Here we'll look at the two most commonly-used loop structures - the 'while' loop, and the 'for' loop."
      ]
    },
    {
      "cell_type": "markdown",
      "metadata": {
        "id": "NiWmLK3_6V7v"
      },
      "source": [
        "---\n",
        "## Examples\n",
        "---\n",
        "---"
      ]
    },
    {
      "cell_type": "markdown",
      "metadata": {
        "id": "CKD9AhlkBIyC"
      },
      "source": [
        "## The while loop\n",
        "\n",
        "A while loop checks if a condition is true, then executes the contents of the loop. If the condition is intitially false, the loop doesn't execute, and the interpreter moves on to the next line of code."
      ]
    },
    {
      "cell_type": "code",
      "metadata": {
        "tags": [],
        "id": "-lu2seaBBIyD",
        "outputId": "5b9074de-8c52-4b12-d43c-4b91a05c497c"
      },
      "source": [
        "\n",
        "x = 0\n",
        "x_max = 3\n",
        "\n",
        "while x < x_max:\n",
        "    print(x)\n",
        "    x += 1\n",
        "\n",
        "print('Done!')"
      ],
      "execution_count": null,
      "outputs": [
        {
          "output_type": "stream",
          "text": [
            "0\n",
            "1\n",
            "2\n",
            "3\n",
            "4\n",
            "Done!\n"
          ],
          "name": "stdout"
        }
      ]
    },
    {
      "cell_type": "markdown",
      "metadata": {
        "id": "efD_W_RkD6zm"
      },
      "source": [
        "---"
      ]
    },
    {
      "cell_type": "markdown",
      "metadata": {
        "id": "i9BmFDkOBIyH"
      },
      "source": [
        "## The for loop\n",
        "\n",
        "A for loop iterates over a range of values, executing the contents of the loop for each value. Once the final value is reached, the loop stops. You can loop over a range of numbers, the characters of a strings, the contents of a list (more on this later). Check out the python docs if you want to learn more about 'iterables'.\n",
        "\n",
        "Here, we use the range() function to generate the range of integers from 0 to 4 - Note that range(0, n) generates the integers 0, 1, ..., n-1."
      ]
    },
    {
      "cell_type": "code",
      "metadata": {
        "id": "yK1WJFQ4BIyI"
      },
      "source": [
        "x_max = 3\n",
        "\n",
        "for x in range(0, x_max):\n",
        "    print(x)\n",
        "\n",
        "print('Done!')"
      ],
      "execution_count": null,
      "outputs": []
    },
    {
      "cell_type": "markdown",
      "metadata": {
        "id": "TPP5_ocVD9nv"
      },
      "source": [
        "---"
      ]
    },
    {
      "cell_type": "markdown",
      "metadata": {
        "id": "4vz92TikBIyL"
      },
      "source": [
        "## Looping over strings\n",
        "\n",
        "We can use loops to iterate over the characters in a string. With a for loop, we can either use a counter and set the range to the length of the string, or we can directly iterate over the string itself. We can get the length of the string using the len() function. We can access the n-th character in a string, my_string, using my_string\\[n\\]. "
      ]
    },
    {
      "cell_type": "markdown",
      "metadata": {
        "id": "9dYNGoJiBIyL"
      },
      "source": [
        "Let's use a for-loop to compare two strings character by character. Here we loop over the characters in a pair of strings in three different ways.\n",
        "\n",
        "1. Get the length of the shorter string, and loop over that length using a counter.\n",
        "    - We use the min() function to get the length of the shorter string.\n",
        "2. Loop over one of the strings, using the enumerate() function to create and update a counter at each iteration.\n",
        "    - We use the 'break' statement to terminate the loop early if our counter exceeds the length of the shorter string.\n",
        "3. Loop over both strings, using the zip() function to return a pair of characters, one from each string, at the same time.\n",
        "    - The zip() function returns pairs of characters until it reaches the end of the shorter string."
      ]
    },
    {
      "cell_type": "code",
      "metadata": {
        "tags": [],
        "id": "b1hQOXC7BIyM"
      },
      "source": [
        "# Defining some variables we'll use later\n",
        "string_a = \"Badger\"\n",
        "string_b = \"Cat\"\n",
        "string_c = \"Goat\"\n",
        "\n",
        "#Print out how long each variable is\n",
        "print(string_a, 'has', len(string_a), 'letters')\n",
        "print(string_b, 'has', len(string_b), 'letters')\n",
        "print(string_c, 'has', len(string_c), 'letters')\n",
        "\t\n",
        "\n",
        "#####\n",
        "## Comparing two strings, character by character\n",
        "#####\n",
        "print('Checking if individual characters match.')\n",
        "\n",
        "print(\"Looping over the length of the shortest string.\")\n",
        "length = min(len(string_a), len(string_b))\n",
        "for position in range(0, length):\n",
        "    char_a = string_a[position]\n",
        "    char_b = string_b[position]\n",
        "    if char_a == char_b:\n",
        "        print('Character', char_a, 'in', string_a, 'matches', char_b, 'in', string_b)\n",
        "    else:\n",
        "        print('Character', char_a, 'in', string_a, 'does not match', char_b, 'in', string_b)\n",
        "print('Done!\\n\\n')\n",
        "\n",
        "#####\n",
        "## Comparing a different way, using the enumerate() function \n",
        "#####\n",
        "\n",
        "print('Looping over one string using enumerate().')\n",
        "position = 0\n",
        "for position, char_a in enumerate(string_a):\n",
        "    if position >= len(string_b):\n",
        "        break\n",
        "    char_b = string_b[position]\n",
        "    if char_a == char_b:\n",
        "        print('Character', char_a, 'in', string_a, 'matches', char_b, 'in', string_b)\n",
        "    else:\n",
        "        print('Character', char_a, 'in', string_a, 'does not match', char_b, 'in', string_b)\n",
        "print('Done!\\n\\n')\n",
        "\n",
        "#####\n",
        "## Yet another way of doing the comparison\n",
        "#####\n",
        "\n",
        "print('Looping over a pair of strings using zip().')\n",
        "for char_a, char_b in zip(string_a, string_b):\n",
        "    if char_a == char_b:\n",
        "        print('Character', char_a, 'in', string_a, 'matches', char_b, 'in', string_b)\n",
        "    else:\n",
        "        print('Character', char_a, 'in', string_a, 'does not match', char_b, 'in', string_b)\n",
        "print('Done!')"
      ],
      "execution_count": null,
      "outputs": []
    },
    {
      "cell_type": "markdown",
      "metadata": {
        "id": "rna2gvO1BIyP"
      },
      "source": [
        "---\n",
        "## Essential Exercises\n",
        "---"
      ]
    },
    {
      "cell_type": "markdown",
      "metadata": {
        "id": "ZuaMv-KfCDSc"
      },
      "source": [
        "###Exercise E1\n",
        "Modify the for loops in your Python code so that instead of looping for 3 times it loops for 10 and instead of the loop control variable starting at zero, start it at 3.  Ensure you understand what the manipulation of these variables achieves."
      ]
    },
    {
      "cell_type": "code",
      "metadata": {
        "id": "LBYRNdz6CBbW",
        "outputId": "9170831c-1b5c-4b9c-fc11-6e5f4ebf7fa6",
        "colab": {
          "base_uri": "https://localhost:8080/",
          "height": 85
        }
      },
      "source": [
        "x_start = 0\n",
        "x_max = 3\n",
        "\n",
        "for x in range(x_start, x_max):\n",
        "    print(x)\n",
        "\n",
        "print('Done!')"
      ],
      "execution_count": null,
      "outputs": [
        {
          "output_type": "stream",
          "text": [
            "0\n",
            "1\n",
            "2\n",
            "Done!\n"
          ],
          "name": "stdout"
        }
      ]
    },
    {
      "cell_type": "markdown",
      "metadata": {
        "id": "LoK_wZAYULvt"
      },
      "source": [
        "\n",
        "\n",
        "---\n",
        "\n"
      ]
    },
    {
      "cell_type": "markdown",
      "metadata": {
        "id": "tBSiIyScBIyT"
      },
      "source": [
        "###Exercise E2\n",
        "The Fibonacci numbers are a sequence of numbers where each number is obtained by adding the previous two numbers. The first two numbers in the sequence are 0 and 1. Write a loop to generate the first 15 numbers of the sequence."
      ]
    },
    {
      "cell_type": "code",
      "metadata": {
        "tags": [],
        "id": "3EFU24vTBIyU",
        "outputId": "6df06064-7e32-4e35-e034-4831a9be0f28"
      },
      "source": [
        "f_n2 = 0\n",
        "f_n1 = 1\n",
        "f_n = f_n2 + f_n1\n",
        "\n",
        "print(f_n2, f_n1, f_n)"
      ],
      "execution_count": null,
      "outputs": [
        {
          "output_type": "stream",
          "text": [
            "0 1 1\n"
          ],
          "name": "stdout"
        }
      ]
    },
    {
      "cell_type": "markdown",
      "metadata": {
        "id": "PQuO5CDFURR2"
      },
      "source": [
        "\n",
        "\n",
        "---\n",
        "\n"
      ]
    },
    {
      "cell_type": "markdown",
      "metadata": {
        "id": "Am1H6NBECPzl"
      },
      "source": [
        "###Exercise E3\n",
        "ASCII art is the technique of drawing simple pictures using only the characters defined by the “American Standard Code for Information Interchange”.  Most ASCII characters are available on your keyboard.  \n",
        "\n",
        "Create a program which will draw a rectangle of # symbols.  The dimensions of this rectangle should be controlled by two integer variables widthX and widthY.   \n",
        "\n",
        "By varying widthX and widthY your program should be capable of displaying a rectangle of arbitrary dimensions. E.g. widthX = 4, widthY = 3 would result in:\n",
        "\n",
        "      ####\n",
        "      ####\n",
        "      ####\n",
        "\n",
        "\n",
        "\n",
        "\n",
        "\n",
        "---\n",
        "\n",
        "\n",
        "\n"
      ]
    },
    {
      "cell_type": "markdown",
      "metadata": {
        "id": "Ds0liXwH7ABL"
      },
      "source": [
        "###Exercise E4\n",
        "Determine if a string of ‘aaa’ will match ‘AAA’\n",
        "\n"
      ]
    },
    {
      "cell_type": "code",
      "metadata": {
        "id": "qSgT3IG47Ysf"
      },
      "source": [
        "string_a = \"aaa\"\n",
        "string_b = \"AAA\""
      ],
      "execution_count": null,
      "outputs": []
    },
    {
      "cell_type": "markdown",
      "metadata": {
        "id": "Fuq8E6Zl7fzO"
      },
      "source": [
        "---"
      ]
    },
    {
      "cell_type": "markdown",
      "metadata": {
        "id": "HlJugNBpBIyP"
      },
      "source": [
        "###Exercise E5\n",
        "Write a loop that compares two strings character by character and assigns a similarity score to the strings. Add 1 to the score if two characters match; subtract 1 from the score if two characters do not match. Make a version that is case sensitive, and a version that is case insensitive. "
      ]
    },
    {
      "cell_type": "code",
      "metadata": {
        "id": "UWzc3HzpBIyQ"
      },
      "source": [
        "string_a = 'Badger'\n",
        "string_b = 'Cat'\n",
        "string_c = 'Goat'"
      ],
      "execution_count": null,
      "outputs": []
    },
    {
      "cell_type": "markdown",
      "metadata": {
        "id": "ISLNhgi5u8ta"
      },
      "source": [
        "---\n",
        "#Optional Tasks\n",
        "---\n",
        "---"
      ]
    },
    {
      "cell_type": "markdown",
      "metadata": {
        "id": "t6Ttrx_IBIyX"
      },
      "source": [
        "###Exercise O1\n",
        "There are 20 amino acids.  They are represented both as three letter code and as a single letter code (more details in the 2019 worksheet).  Notably absent from this are the letters B, J, O, U, X and Z.  Modify the code below to make use of the continue statement to skip printing the above letters.\n",
        "\n",
        "Write a loop to iterate over a string of characters so as to only print out those characters that correspond to the 20 standard amino acids.\n"
      ]
    },
    {
      "cell_type": "code",
      "metadata": {
        "tags": [],
        "id": "fUj_D7JYBIyX",
        "outputId": "684f922e-c8bf-44a4-b5a6-8323c2b435a6",
        "colab": {
          "base_uri": "https://localhost:8080/",
          "height": 34
        }
      },
      "source": [
        "horrible_string = \"tbjranosyuluvanianvajmbpiresutzaxsjtueaftershajvoeuaxgeslatuxeraftueragugrxiueuvingsuumelxlyzmen\"\n",
        "\n",
        "for position in range(0, len(horrible_string)):\n",
        "\tprint(horrible_string[position], end='')"
      ],
      "execution_count": null,
      "outputs": [
        {
          "output_type": "stream",
          "text": [
            "tbjranosyuluvanianvajmbpiresutzaxsjtueaftershajvoeuaxgeslatuxeraftueragugrxiueuvingsuumelxlyzmen"
          ],
          "name": "stdout"
        }
      ]
    },
    {
      "cell_type": "markdown",
      "metadata": {
        "id": "PQi8aulxKzGQ"
      },
      "source": [
        "---"
      ]
    },
    {
      "cell_type": "markdown",
      "metadata": {
        "id": "TpMpD5UTuq65"
      },
      "source": [
        "###Exercise O2\n",
        "Modify the above ASCII-art program to make the rectangle created hollow.  I.e., for widthX = 5 and heightY = 4, the resulting rectangle would be as follows:\n",
        "\n",
        "      #####\n",
        "      #   #\n",
        "      #   #\n",
        "      #####"
      ]
    },
    {
      "cell_type": "code",
      "metadata": {
        "id": "0oVO10vtLyRI"
      },
      "source": [
        ""
      ],
      "execution_count": null,
      "outputs": []
    },
    {
      "cell_type": "markdown",
      "metadata": {
        "id": "cTBtLIiVEmPY"
      },
      "source": [
        "---"
      ]
    },
    {
      "cell_type": "markdown",
      "metadata": {
        "id": "3PZ9mHjuBIyb"
      },
      "source": [
        "###Exercise O3\n",
        "Here are two amino acid sequences. Write a loop to compare the two sequences character by character. Make sure you account for the fact that the sequences have different lengths!"
      ]
    },
    {
      "cell_type": "code",
      "metadata": {
        "id": "9r2vH1N0BIyb"
      },
      "source": [
        "sequence_a = 'QIKDLLVSSSTDLDTTLVLVNAIYFKGMWKTAFNAEDTREMPFHVTKQESKPVQMMCMNNSFNVATLPAEKMKILELPFASGDLSMLVLLPDEVSDLERIEKTINFEKLTEWTNPNTMEKRRVKVYLPQMKIEEKYNLTSVLMALGMTDLFIPSANLTGISSAESLKISQAVHGAFMELSEDGIEMAGSTGVIEDIKHSPESEQFRADHPFLFLIKHNPTNTIVYFGRYWSP'\n",
        "\n",
        "sequence_b = 'MMEEYLGVFVDETKEYLQNLNDTLLELEKNPEDMELINEAFRALHTLKGMAGTMGFSSMAKLCHTLENILDKARNSEIKITSDLLDKIFAGVDMITRMVDKIVSEGSDDIGENIDVFSDTIKSFASSGKEKLEHHHHHH'\n",
        "\n",
        "seqa_length = len(sequence_a)\n",
        "seqb_length = len(sequence_b)\n",
        "\n",
        "print(\"A : B\")\n",
        "print(\"-----\")\n",
        "for position in range(0, seqb_length):\n",
        "\tprint(sequence_a[position], \":\", sequence_b[position])"
      ],
      "execution_count": null,
      "outputs": []
    },
    {
      "cell_type": "markdown",
      "metadata": {
        "id": "5JPBAtEVEi5h"
      },
      "source": [
        "---"
      ]
    },
    {
      "cell_type": "markdown",
      "metadata": {
        "id": "LbVPQR-UETGJ"
      },
      "source": [
        "###Exercise O4\n",
        "Modify one of the above ASCII art programs to include variables offset_X and offset_Y.  These variables offset_X and offset_Y should respectively control how many characters from the leftmost edge of the screen the rectangle is to start and how many characters down from the top of the screen the rectangle is to start."
      ]
    },
    {
      "cell_type": "code",
      "metadata": {
        "id": "3h6M7ZPBLSvb"
      },
      "source": [
        ""
      ],
      "execution_count": null,
      "outputs": []
    },
    {
      "cell_type": "markdown",
      "metadata": {
        "id": "P2n3pS9FLTzC"
      },
      "source": [
        "---"
      ]
    },
    {
      "cell_type": "markdown",
      "metadata": {
        "id": "fA_N8SC8JGj_"
      },
      "source": [
        "###Exercise O5\n",
        "Shown at the end is a sub-section of the BLOSUM62 substitution matrix.  This matrix shows one of the costs of substituting one amino acid for another.  Using nested IF statements, pick two rows or columns from BLOSUM62 and use these to score the cost of mutating one sequence into another."
      ]
    },
    {
      "cell_type": "markdown",
      "metadata": {
        "id": "QvsKCTXBDB3W"
      },
      "source": [
        "---\n",
        "## Advanced Tasks\n",
        "---\n",
        "\n",
        "---"
      ]
    },
    {
      "cell_type": "markdown",
      "metadata": {
        "id": "lxS-dgaGDRNf"
      },
      "source": [
        "###Exercise A1\n",
        "Create a program which will generate an ASCII art equilateral triangle instead of a rectangle\n",
        "\n",
        "\n",
        "\n",
        " \n"
      ]
    },
    {
      "cell_type": "code",
      "metadata": {
        "id": "WDrXcyz4Dk0w"
      },
      "source": [
        ""
      ],
      "execution_count": null,
      "outputs": []
    },
    {
      "cell_type": "markdown",
      "metadata": {
        "id": "hoN2hi2-DlXV"
      },
      "source": [
        "---"
      ]
    },
    {
      "cell_type": "markdown",
      "metadata": {
        "id": "7mV1wCP7DaHy"
      },
      "source": [
        "###Exercise A2\n",
        "Create a program which over a number of iterations will calculate the first 5 decimal places of pi.  The number of iterations should be controlled with the variable nIterations."
      ]
    },
    {
      "cell_type": "code",
      "metadata": {
        "id": "ubNprNK6DnIw"
      },
      "source": [
        ""
      ],
      "execution_count": null,
      "outputs": []
    },
    {
      "cell_type": "markdown",
      "metadata": {
        "id": "2FtLuEhzDnYn"
      },
      "source": [
        "---"
      ]
    },
    {
      "cell_type": "markdown",
      "metadata": {
        "id": "RttfEK4jDVD4"
      },
      "source": [
        "###Exercise A3\n",
        "Create a program which will be able to generate a circle instead of a triangle or rectangle."
      ]
    },
    {
      "cell_type": "code",
      "metadata": {
        "id": "UXqvJXzMDhR7"
      },
      "source": [
        ""
      ],
      "execution_count": null,
      "outputs": []
    },
    {
      "cell_type": "markdown",
      "metadata": {
        "id": "X_1vWEdWIu0F"
      },
      "source": [
        "---\n",
        "# Additional Information for Optional Questions\n",
        "---\n",
        "---\n",
        "\n"
      ]
    },
    {
      "cell_type": "markdown",
      "metadata": {
        "id": "B-bwFUV0FfEk"
      },
      "source": [
        "Sub-section of the BLOSUM62 substitution matrix.\n",
        "\n",
        "|   |  C |  S |  T |  P |  A |\n",
        "|:-:|:--:|:--:|:--:|:--:|:--:|\n",
        "| **C** |  **9** | -1 | -1 | -3 |  0 |\n",
        "| **S** | -1 |  **4** |  1 | -1 | -1 |\n",
        "| **T** | -1 |  1 |  **4** |  1 | -1 |\n",
        "| **P** | -3 | -1 |  1 |  **7** | -1 |\n",
        "| **A** |  0 |  1 | -1 | -1 |  **4** |\n",
        "\n",
        "\n",
        "List of Amino Acids with their short and single letter nomenclatures \n",
        "\n",
        "| Amino Acid    | Short form | Single letter |\n",
        "|---------------|------------|---------------|\n",
        "| Alanine       | Ala        | A             |\n",
        "| Cysteine      | Cys        | C             |\n",
        "| Aspartic acid | Asp        | D             |\n",
        "| Glutamic acid | Glu        | E             |\n",
        "| Phenylalanine | Phe        | F             |\n",
        "| Glycine       | Gly        | G             |\n",
        "| Histidine     | His        | H             |\n",
        "| Isoleucine    | Ile        | I             |\n",
        "| Lysine        | Lys        | K             |\n",
        "| Leucine       | Leu        | L             |\n",
        "| Methionine    | Met        | M             |\n",
        "| Asparagine    | Asn        | N             |\n",
        "| Proline       | Pro        | P             |\n",
        "| Glutamine     | Gln        | Q             |\n",
        "| Arginine      | Arg        | R             |\n",
        "| Serine        | Ser        | S             |\n",
        "| Threonine     | Thr        | T             |\n",
        "| Valine        | Val        | V             |\n",
        "| Tryptophan    | Trp        | W             |\n",
        "| Tyrosine      | Tyr        | Y             |\n"
      ]
    },
    {
      "cell_type": "markdown",
      "metadata": {
        "id": "lOu2v5PyDpjv"
      },
      "source": [
        "---\n",
        "---\n",
        "# End of Lesson 03\n",
        "---\n",
        "---"
      ]
    }
  ]
}
