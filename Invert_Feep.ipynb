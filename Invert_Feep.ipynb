{
  "nbformat": 4,
  "nbformat_minor": 0,
  "metadata": {
    "colab": {
      "name": "Invert Feep.ipynb",
      "provenance": [],
      "collapsed_sections": [],
      "authorship_tag": "ABX9TyOpSNClK/bitQjxg0iKdCPA",
      "include_colab_link": true
    },
    "kernelspec": {
      "name": "python3",
      "display_name": "Python 3"
    }
  },
  "cells": [
    {
      "cell_type": "markdown",
      "metadata": {
        "id": "view-in-github",
        "colab_type": "text"
      },
      "source": [
        "<a href=\"https://colab.research.google.com/github/emalins/Teaching-Python/blob/master/Invert_Feep.ipynb\" target=\"_parent\"><img src=\"https://colab.research.google.com/assets/colab-badge.svg\" alt=\"Open In Colab\"/></a>"
      ]
    },
    {
      "cell_type": "markdown",
      "metadata": {
        "id": "xGHU-t4dHjsD",
        "colab_type": "text"
      },
      "source": [
        "Solution for Lesson 08"
      ]
    },
    {
      "cell_type": "code",
      "metadata": {
        "id": "zmncqHNsRZWO",
        "colab_type": "code",
        "colab": {
          "base_uri": "https://localhost:8080/",
          "height": 122
        },
        "outputId": "5990b198-bc05-44ad-f8d9-ad08479f49c3"
      },
      "source": [
        "from google.colab import files\n",
        "from google.colab import drive\n",
        "drive.mount('/gdrive', force_remount=True)"
      ],
      "execution_count": 2,
      "outputs": [
        {
          "output_type": "stream",
          "text": [
            "Go to this URL in a browser: https://accounts.google.com/o/oauth2/auth?client_id=947318989803-6bn6qk8qdgf4n4g3pfee6491hc0brc4i.apps.googleusercontent.com&redirect_uri=urn%3aietf%3awg%3aoauth%3a2.0%3aoob&scope=email%20https%3a%2f%2fwww.googleapis.com%2fauth%2fdocs.test%20https%3a%2f%2fwww.googleapis.com%2fauth%2fdrive%20https%3a%2f%2fwww.googleapis.com%2fauth%2fdrive.photos.readonly%20https%3a%2f%2fwww.googleapis.com%2fauth%2fpeopleapi.readonly&response_type=code\n",
            "\n",
            "Enter your authorization code:\n",
            "··········\n",
            "Mounted at /gdrive\n"
          ],
          "name": "stdout"
        }
      ]
    },
    {
      "cell_type": "code",
      "metadata": {
        "id": "8DH2jKWzjLO4",
        "colab_type": "code",
        "colab": {
          "base_uri": "https://localhost:8080/",
          "height": 136
        },
        "outputId": "7a465d90-2459-4be0-c48c-9d8499f2a48a"
      },
      "source": [
        "file_in = open(\"/gdrive/My Drive/feep.pbm\")\n",
        "\n",
        "file_out = open(\"/gdrive/My Drive/inverted_feep.pbm\", \"w\")\n",
        "\n",
        "bigArray = []\n",
        "invertedArray = []\n",
        "temp_list = []\n",
        "\n",
        "lineCounter = 0\n",
        "pbmType = \"\"\n",
        "xResolution = 0\n",
        "yResolution = 0\n",
        "bitDepth = 0;\n",
        "\n",
        "\n",
        "#Find the X and Y resolution of the file \n",
        "\n",
        "for currentLine in file_in:\n",
        "\n",
        "\tif lineCounter == 0:\n",
        "\t\tpbmType = currentLine\n",
        "\t\tprint( \"lc\",lineCounter,currentLine)\n",
        "\t\tlineCounter += 1\n",
        "\telif currentLine.startswith(\"#\"):\n",
        "\t\tprint(\"lc\",lineCounter,currentLine)\n",
        "\t\tlineCounter += 1\n",
        "\telif lineCounter == 2:\n",
        "\t\tprint(\"lc\",lineCounter,currentLine)\n",
        "\t\t(xResolution, yResolution) = \\\n",
        "\t\t[int(x) for x in currentLine.split(' ',1)]\n",
        "\t\tlineCounter += 1\n",
        "\telse:\n",
        "\t\t#split currentLine when you see a space\n",
        "\t\t#convert all values in currentLine to ints \n",
        "\t\ttempLine = [int(x) for x in currentLine.split()]\n",
        "\t\tbigArray.append(tempLine)\n",
        "\t\tlineCounter += 1\n",
        "\n",
        "print(\"X resolution: \", xResolution, \", Y resolution:\", yResolution)\n",
        "#print(bigArray)\n"
      ],
      "execution_count": 3,
      "outputs": [
        {
          "output_type": "stream",
          "text": [
            "lc 0 P1\n",
            "\n",
            "lc 1 # feep.pbm\n",
            "\n",
            "lc 2 24 7\n",
            "\n",
            "X resolution:  24 , Y resolution: 7\n"
          ],
          "name": "stdout"
        }
      ]
    },
    {
      "cell_type": "code",
      "metadata": {
        "id": "OlcXXL96Gdz_",
        "colab_type": "code",
        "colab": {
          "base_uri": "https://localhost:8080/",
          "height": 105
        },
        "outputId": "00ef7279-14d5-4653-ba09-6720227f8aa7"
      },
      "source": [
        "\n",
        "#Invert the image\n",
        "for row in range(0,yResolution):\n",
        "  for col in range(0,xResolution):\n",
        "    if( bigArray[row][col] == 0):\n",
        "      temp_list.append(1) \n",
        "    else:\n",
        "      temp_list.append(0) \n",
        "\n",
        "    #print(bigArray[row][col], end=''),\n",
        "  invertedArray.append(temp_list)\n",
        "  #clear the temp list\n",
        "  temp_list = []\n",
        "  #print(\"\\n\")\n",
        "\n",
        "print(\"Before:\")\n",
        "print(bigArray)\n",
        "\n",
        "print(\"After:\")\n",
        "print(invertedArray)\n"
      ],
      "execution_count": 5,
      "outputs": [
        {
          "output_type": "stream",
          "text": [
            "Before:\n",
            "[[0, 0, 0, 0, 0, 0, 0, 0, 0, 0, 0, 0, 0, 0, 0, 0, 0, 0, 0, 0, 0, 0, 0, 0], [0, 1, 1, 1, 1, 0, 0, 1, 1, 1, 1, 0, 0, 1, 1, 1, 1, 0, 0, 1, 1, 1, 1, 0], [0, 1, 0, 0, 0, 0, 0, 1, 0, 0, 0, 0, 0, 1, 0, 0, 0, 0, 0, 1, 0, 0, 1, 0], [0, 1, 1, 1, 0, 0, 0, 1, 1, 1, 0, 0, 0, 1, 1, 1, 0, 0, 0, 1, 1, 1, 1, 0], [0, 1, 0, 0, 0, 0, 0, 1, 0, 0, 0, 0, 0, 1, 0, 0, 0, 0, 0, 1, 0, 0, 0, 0], [0, 1, 0, 0, 0, 0, 0, 1, 1, 1, 1, 0, 0, 1, 1, 1, 1, 0, 0, 1, 0, 0, 0, 0], [0, 0, 0, 0, 0, 0, 0, 0, 0, 0, 0, 0, 0, 0, 0, 0, 0, 0, 0, 0, 0, 0, 0, 0]]\n",
            "After:\n",
            "[[1, 1, 1, 1, 1, 1, 1, 1, 1, 1, 1, 1, 1, 1, 1, 1, 1, 1, 1, 1, 1, 1, 1, 1], [1, 0, 0, 0, 0, 1, 1, 0, 0, 0, 0, 1, 1, 0, 0, 0, 0, 1, 1, 0, 0, 0, 0, 1], [1, 0, 1, 1, 1, 1, 1, 0, 1, 1, 1, 1, 1, 0, 1, 1, 1, 1, 1, 0, 1, 1, 0, 1], [1, 0, 0, 0, 1, 1, 1, 0, 0, 0, 1, 1, 1, 0, 0, 0, 1, 1, 1, 0, 0, 0, 0, 1], [1, 0, 1, 1, 1, 1, 1, 0, 1, 1, 1, 1, 1, 0, 1, 1, 1, 1, 1, 0, 1, 1, 1, 1], [1, 0, 1, 1, 1, 1, 1, 0, 0, 0, 0, 1, 1, 0, 0, 0, 0, 1, 1, 0, 1, 1, 1, 1], [1, 1, 1, 1, 1, 1, 1, 1, 1, 1, 1, 1, 1, 1, 1, 1, 1, 1, 1, 1, 1, 1, 1, 1], [1, 1, 1, 1, 1, 1, 1, 1, 1, 1, 1, 1, 1, 1, 1, 1, 1, 1, 1, 1, 1, 1, 1, 1], [1, 0, 0, 0, 0, 1, 1, 0, 0, 0, 0, 1, 1, 0, 0, 0, 0, 1, 1, 0, 0, 0, 0, 1], [1, 0, 1, 1, 1, 1, 1, 0, 1, 1, 1, 1, 1, 0, 1, 1, 1, 1, 1, 0, 1, 1, 0, 1], [1, 0, 0, 0, 1, 1, 1, 0, 0, 0, 1, 1, 1, 0, 0, 0, 1, 1, 1, 0, 0, 0, 0, 1], [1, 0, 1, 1, 1, 1, 1, 0, 1, 1, 1, 1, 1, 0, 1, 1, 1, 1, 1, 0, 1, 1, 1, 1], [1, 0, 1, 1, 1, 1, 1, 0, 0, 0, 0, 1, 1, 0, 0, 0, 0, 1, 1, 0, 1, 1, 1, 1], [1, 1, 1, 1, 1, 1, 1, 1, 1, 1, 1, 1, 1, 1, 1, 1, 1, 1, 1, 1, 1, 1, 1, 1]]\n"
          ],
          "name": "stdout"
        }
      ]
    },
    {
      "cell_type": "markdown",
      "metadata": {
        "id": "T0KnzwB2HHXM",
        "colab_type": "text"
      },
      "source": [
        "Now we have an 2D list that's an inverted copy of our original data.  \n",
        "The next task is to write this back to a new file.  \n"
      ]
    },
    {
      "cell_type": "code",
      "metadata": {
        "id": "GrrIWUBUGg0B",
        "colab_type": "code",
        "colab": {
          "base_uri": "https://localhost:8080/",
          "height": 34
        },
        "outputId": "d8ade21d-74fe-4f4f-d63b-7e0157aaae64"
      },
      "source": [
        "# Write header\n",
        "file_out.write(\"P1\\n\")\n",
        "file_out.write(\"#Inverted image, made by moi.\\n\")\n",
        "\n",
        "# write() likes to writes out strings, not multiple variables, so let's make\n",
        "# a string for it.\n",
        "tempLine = \"\"\n",
        "tempLine = str(xResolution) + \" \" + str(yResolution) + \"\\n\"\n",
        "file_out.write(tempLine)\n",
        "\n",
        "\n",
        "tempLine = \"\"\n",
        "for row in range(0,yResolution):\n",
        "  for col in range(0,xResolution):\n",
        "    #print(\"r: \", row, \" c:\", col)\n",
        "    tempLine = tempLine + \" \" + str(invertedArray[row][col])\n",
        "    tempLine = tempLine + \"\\n\"\n",
        "  #print(\"--\", tempLine,\"--\")\n",
        "  file_out.write(tempLine)\n",
        "  tempLine = \"\"\n",
        "   \n",
        "#Done with our output file, close it and check it's closed\n",
        "file_out.close()\n",
        "print(file_out.closed)"
      ],
      "execution_count": 6,
      "outputs": [
        {
          "output_type": "stream",
          "text": [
            "True\n"
          ],
          "name": "stdout"
        }
      ]
    },
    {
      "cell_type": "markdown",
      "metadata": {
        "id": "f63ly-1rFuIU",
        "colab_type": "text"
      },
      "source": [
        "If you have not installed IrFanView, there is an online netpbm viewer  \n",
        "available here: http://paulcuth.me.uk/netpbm-viewer/\n"
      ]
    },
    {
      "cell_type": "code",
      "metadata": {
        "id": "Zgytt6m-F1-W",
        "colab_type": "code",
        "colab": {}
      },
      "source": [
        ""
      ],
      "execution_count": null,
      "outputs": []
    }
  ]
}