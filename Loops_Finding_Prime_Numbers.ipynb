{
  "nbformat": 4,
  "nbformat_minor": 0,
  "metadata": {
    "colab": {
      "name": "Copy of Loops - Finding Prime Numbers.ipynb",
      "provenance": [],
      "collapsed_sections": [],
      "authorship_tag": "ABX9TyMCZVaAgbtbDhrb2taX1epK",
      "include_colab_link": true
    },
    "kernelspec": {
      "name": "python3",
      "display_name": "Python 3"
    }
  },
  "cells": [
    {
      "cell_type": "markdown",
      "metadata": {
        "id": "view-in-github",
        "colab_type": "text"
      },
      "source": [
        "<a href=\"https://colab.research.google.com/github/emalins/Teaching-Python/blob/master/Loops_Finding_Prime_Numbers.ipynb\" target=\"_parent\"><img src=\"https://colab.research.google.com/assets/colab-badge.svg\" alt=\"Open In Colab\"/></a>"
      ]
    },
    {
      "cell_type": "markdown",
      "metadata": {
        "id": "eaCKR4M7PAIK",
        "colab_type": "text"
      },
      "source": [
        "The following code attempts to find prime numbers using loops.\n",
        "  \n",
        "Hint: If you are unsure about what some code is doing, break it down and simplify things for yourself.  Find the outermost loop (in this case labeled #Outer loop) and comment out all the bits inside it.  Try adding additional print statements until you see what the loop does.  Then, re-enable another line or two in the guts of the loop and try to get a handle on what they're doing."
      ]
    },
    {
      "cell_type": "code",
      "metadata": {
        "id": "gCAm13j3F38_",
        "colab_type": "code",
        "colab": {
          "base_uri": "https://localhost:8080/",
          "height": 663
        },
        "outputId": "e1511f79-88c5-432d-92c9-1cd9e7b973cd"
      },
      "source": [
        "# Program to find primes in a loop\n",
        "# Code can be found here: https://docs.python.org/3/tutorial/controlflow.html\n",
        "\n",
        "start_point = 2\n",
        "end_point = 10\n",
        "\n",
        "#Outer loop\n",
        "for current_number in range(start_point, end_point):\n",
        "    print(\"Looking for possible factors of\", current_number, \":\") \n",
        "  \n",
        "    #Inner loop\n",
        "    for possible_factor in range(start_point, current_number):\n",
        "        print(\"\\t Checking if \",possible_factor,\" is a factor of \",\n",
        "              current_number, sep=\"\")\n",
        "        \n",
        "        # See if the current number is cleanly divisible by the possible factor\n",
        "        if(current_number % possible_factor == 0):\n",
        "            print(current_number, 'equals', possible_factor, '*', \n",
        "            current_number//possible_factor, \"so isn't prime.\\n\")\n",
        "\n",
        "            # We'v already proved it's not prime, stop executing this loop\n",
        "            break\n",
        "\n",
        "\n",
        "    # Weird python else statement.  Look carefully, it belongs to the\n",
        "    # inner loop, not the if statement.\n",
        "    else:\n",
        "        print(\"Found no factors between \", start_point, \" and \",\n",
        "              current_number, \", so \", current_number, \" is a prime number\\n\", \n",
        "              sep=\"\")"
      ],
      "execution_count": 1,
      "outputs": [
        {
          "output_type": "stream",
          "text": [
            "Looking for possible factors of 2 :\n",
            "Found no factors between ****2**** and ****2****, so ****2**** is a prime number\n",
            "\n",
            "Looking for possible factors of 3 :\n",
            "\t Checking if 2 is a factor of 3\n",
            "Found no factors between ****2**** and ****3****, so ****3**** is a prime number\n",
            "\n",
            "Looking for possible factors of 4 :\n",
            "\t Checking if 2 is a factor of 4\n",
            "4 equals 2 * 2 so isn't prime.\n",
            "\n",
            "Looking for possible factors of 5 :\n",
            "\t Checking if 2 is a factor of 5\n",
            "\t Checking if 3 is a factor of 5\n",
            "\t Checking if 4 is a factor of 5\n",
            "Found no factors between ****2**** and ****5****, so ****5**** is a prime number\n",
            "\n",
            "Looking for possible factors of 6 :\n",
            "\t Checking if 2 is a factor of 6\n",
            "6 equals 2 * 3 so isn't prime.\n",
            "\n",
            "Looking for possible factors of 7 :\n",
            "\t Checking if 2 is a factor of 7\n",
            "\t Checking if 3 is a factor of 7\n",
            "\t Checking if 4 is a factor of 7\n",
            "\t Checking if 5 is a factor of 7\n",
            "\t Checking if 6 is a factor of 7\n",
            "Found no factors between ****2**** and ****7****, so ****7**** is a prime number\n",
            "\n",
            "Looking for possible factors of 8 :\n",
            "\t Checking if 2 is a factor of 8\n",
            "8 equals 2 * 4 so isn't prime.\n",
            "\n",
            "Looking for possible factors of 9 :\n",
            "\t Checking if 2 is a factor of 9\n",
            "\t Checking if 3 is a factor of 9\n",
            "9 equals 3 * 3 so isn't prime.\n",
            "\n"
          ],
          "name": "stdout"
        }
      ]
    },
    {
      "cell_type": "markdown",
      "metadata": {
        "id": "2PMYhGIVM1Ek",
        "colab_type": "text"
      },
      "source": [
        "\n",
        "There are a few things you many not have encountered before:\n",
        "* sep=\"\"   \n",
        "* Else used within a loop\n",
        "\n",
        "sep= \"\" is a way to prevent Python being too clever when it's formatting your print statements.  Normally, Python tries to add spaces or newlines to your prints, even if you didn't ask for them.  As you can imagine this can be highly frustrating when you're trying to format some text the way YOU want it, not the way Python thinks you want it.  Use sep = \"\" to say the separator between chunks in a print statement should be nothing at all.  You can also use end=\"\" to supress new lines being added to the end of every print statement. \n",
        "  \n",
        "For both sep=\"\" and end=\"\" you aren't limited to just turning them on or off, you can put whatever you like between the speech marks and use that as your separator and endings.\n",
        "  \n",
        "  \n",
        "Whilst you'll have seen if/else statements before, for/else is a bit of a weird one found nearly exclusively in Python.  When the for loop runs out of things to iterate over, it then drops into the else statement and iterates the code there.  The else statement however is NOT execute if you break out of a loop using the break statement."
      ]
    }
  ]
}